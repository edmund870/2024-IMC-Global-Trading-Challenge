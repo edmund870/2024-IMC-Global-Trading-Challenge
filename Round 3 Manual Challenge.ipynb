{
 "cells": [
  {
   "cell_type": "markdown",
   "metadata": {},
   "source": [
    "# Round 3 Manual Challenge"
   ]
  },
  {
   "cell_type": "markdown",
   "metadata": {},
   "source": [
    "\n",
    "Trade objective\n",
    "A mysterious message in a bottle washed ashore. It turns out to contain a treasure map belonging to the legendary Iguana Jones. Apparently, bounty is scattered all over the archipelago. The adventurer-archeologist also left a note with the treasure map containing some hints on how to find the biggest treasures and how to keep them to yourself.\n",
    "\n",
    "Your goal is to choose up to three expedition destinations and take home the most treasure. Each tile is said to hold at least 7.5k SeaShells, but rumors are going around that there might be multiple chests in one tile. Select your preferred destination(s) by clicking on the treasure map. There might be costs involved in undertaking these expeditions and you are not the only one looking for treasure. So choose your expeditions and destinations thoughtfully."
   ]
  },
  {
   "cell_type": "markdown",
   "metadata": {},
   "source": [
    "![Expedition.png](<Expedition.png>)"
   ]
  },
  {
   "cell_type": "code",
   "execution_count": 28,
   "metadata": {},
   "outputs": [],
   "source": [
    "import pandas as pd\n",
    "import numpy as np"
   ]
  },
  {
   "cell_type": "code",
   "execution_count": 29,
   "metadata": {},
   "outputs": [],
   "source": [
    "expedition = {\n",
    "    'multiplier' : np.array([24, 70, 41, 21, 60, 47, 82, 87, 80, 35, 73, 89, 100, 90, 17, 77, 83, 85, 79, 55, 12, 27, 52, 15, 30]),\n",
    "    'hunter' : np.array([2, 4, 3, 2, 4, 3, 5, 5, 5, 3, 4, 5, 8, 7, 2, 5, 5, 5, 5, 4, 2, 3, 4, 2, 3])\n",
    "}\n",
    "\n",
    "initial_shells = 7500\n",
    "\n",
    "expedition['treasure'] = expedition['multiplier'] * initial_shells"
   ]
  },
  {
   "cell_type": "code",
   "execution_count": 30,
   "metadata": {},
   "outputs": [
    {
     "data": {
      "text/plain": [
       "{'multiplier': array([ 24,  70,  41,  21,  60,  47,  82,  87,  80,  35,  73,  89, 100,\n",
       "         90,  17,  77,  83,  85,  79,  55,  12,  27,  52,  15,  30]),\n",
       " 'hunter': array([2, 4, 3, 2, 4, 3, 5, 5, 5, 3, 4, 5, 8, 7, 2, 5, 5, 5, 5, 4, 2, 3,\n",
       "        4, 2, 3]),\n",
       " 'treasure': array([180000, 525000, 307500, 157500, 450000, 352500, 615000, 652500,\n",
       "        600000, 262500, 547500, 667500, 750000, 675000, 127500, 577500,\n",
       "        622500, 637500, 592500, 412500,  90000, 202500, 390000, 112500,\n",
       "        225000])}"
      ]
     },
     "execution_count": 30,
     "metadata": {},
     "output_type": "execute_result"
    }
   ],
   "source": [
    "expedition"
   ]
  }
 ],
 "metadata": {
  "kernelspec": {
   "display_name": "Python 3",
   "language": "python",
   "name": "python3"
  },
  "language_info": {
   "codemirror_mode": {
    "name": "ipython",
    "version": 3
   },
   "file_extension": ".py",
   "mimetype": "text/x-python",
   "name": "python",
   "nbconvert_exporter": "python",
   "pygments_lexer": "ipython3",
   "version": "3.9.2"
  }
 },
 "nbformat": 4,
 "nbformat_minor": 2
}
