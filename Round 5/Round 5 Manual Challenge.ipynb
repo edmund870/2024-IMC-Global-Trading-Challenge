{
 "cells": [
  {
   "cell_type": "markdown",
   "metadata": {},
   "source": [
    "# Round 5 Manual Challenge"
   ]
  },
  {
   "cell_type": "markdown",
   "metadata": {},
   "source": [
    "\n",
    "## Trade objective\n",
    "\n",
    "The penguins from the north archipelago have invited us to trade on their exchange for one day. You have the opportunity to trade all sorts of new goods against yesterday's prices, just in time before the exchange opens for a new day. In order to get up to speed with their current market dynamics, they have granted you access to their most valuable news source: Iceberg.\n",
    "\n",
    "Your objective is to develop a trading strategy that maximizes your profit. You have 750.000 SeaShells available as trading capital and can choose to either buy or sell different goods. Specify the percentage you want to buy or sell for, and make sure it doesn’t exceed your total available capital. Note that there are fees involved in these trades. The more you trade in one good, the higher the fee for that good will be."
   ]
  },
  {
   "cell_type": "markdown",
   "metadata": {},
   "source": [
    "![Round 5 Manual Challenge.png](<Round 5 Manual Challenge.png>)"
   ]
  }
 ],
 "metadata": {
  "kernelspec": {
   "display_name": "Python 3",
   "language": "python",
   "name": "python3"
  },
  "language_info": {
   "codemirror_mode": {
    "name": "ipython",
    "version": 3
   },
   "file_extension": ".py",
   "mimetype": "text/x-python",
   "name": "python",
   "nbconvert_exporter": "python",
   "pygments_lexer": "ipython3",
   "version": "3.9.2"
  }
 },
 "nbformat": 4,
 "nbformat_minor": 2
}
