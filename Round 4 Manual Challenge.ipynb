{
 "cells": [
  {
   "cell_type": "markdown",
   "metadata": {},
   "source": [
    "# Round 4 Manual Challenge"
   ]
  },
  {
   "cell_type": "markdown",
   "metadata": {},
   "source": [
    "The goldfish are back. And they brought more scuba gear! Again, they want to get rid of the gear fast and are willing to sell to you for a good price.\n",
    "\n",
    "You only have two chances to offer a good price. Each one of the goldfish will accept the lowest bid that is over their reserve price. But this time around they heard about what other inhabitants of the archipelago offered last time they visited. So, for your second bid, they also take into account the average of bids by other traders in the archipelago. They’ll trade with you when your offer is above the average of all bids. But if you end up under the average, the probability of a deal decreases rapidly.\n",
    "\n",
    "To simulate this probability, the PNL obtained from trading with a fish for which your second bid is under the average of all second bids will be scaled by a factor p: \\\n",
    "$p = \\frac{\\big(1000 - average bid\\big)}{\\big(1000 - your bid\\big)}$\n",
    "\n",
    "There’s a constant desire for scuba gear on the archipelago. So, at the end of the round, you’ll be able to sell them for 1000 SeaShells a piece. Your goal is to set prices that ensure a profitable trade with as many goldfish as possible."
   ]
  },
  {
   "cell_type": "code",
   "execution_count": 1,
   "metadata": {},
   "outputs": [],
   "source": [
    "import numpy as np\n",
    "from scipy.optimize import minimize"
   ]
  },
  {
   "cell_type": "code",
   "execution_count": 5,
   "metadata": {},
   "outputs": [
    {
     "name": "stderr",
     "output_type": "stream",
     "text": [
      "C:\\Users\\Edmund\\AppData\\Local\\Temp\\ipykernel_12876\\2478790195.py:14: RuntimeWarning: divide by zero encountered in double_scalars\n",
      "  np.where((y > reserve_price) & (y < average_price), (1000 - average_price) / (1000 - y) * y,\n"
     ]
    },
    {
     "name": "stdout",
     "output_type": "stream",
     "text": [
      "[964.93370531 984.90493981] -29027589490.01516\n"
     ]
    },
    {
     "name": "stderr",
     "output_type": "stream",
     "text": [
      "C:\\Users\\Edmund\\AppData\\Local\\Temp\\ipykernel_12876\\2478790195.py:14: RuntimeWarning: invalid value encountered in double_scalars\n",
      "  np.where((y > reserve_price) & (y < average_price), (1000 - average_price) / (1000 - y) * y,\n"
     ]
    },
    {
     "name": "stdout",
     "output_type": "stream",
     "text": [
      "[961.68789001 963.20703841] -3652129371.6276045\n",
      "[976.62927023 981.07391271] -7553113598.925524\n",
      "[961.6879331 964.3161072] -4672625889.925011\n",
      "[962.09108475 969.39156289] -8873638517.195974\n",
      "[924.36668499 932.32071478] -4648992007.071893\n",
      "[957.04324837 969.40731756] -10755647850.800003\n",
      "[942.66268949 959.6544365 ] -17779857931.220383\n",
      "[953.3614076  965.00448017] -9610353732.937885\n",
      "[968.78040363 976.56586471] -6714135223.436268\n"
     ]
    }
   ],
   "source": [
    "outcomes = np.arange(900, 1001, 1)\n",
    "proba = np.arange(0, 1.01, 0.01)\n",
    "proba_norm = (proba / proba.sum())\n",
    "\n",
    "reserve_price = np.random.choice(outcomes, size = 100000000, p = proba_norm)\n",
    "\n",
    "def objective(vars):\n",
    "    x,y = vars\n",
    "    average_price = np.random.choice(outcomes)\n",
    "    if y < x: \n",
    "        return 0\n",
    "    else:\n",
    "        holding = np.where(x > reserve_price, x,\n",
    "                        np.where((y > reserve_price) & (y < average_price), (1000 - average_price) / (1000 - y) * y, \n",
    "                                 np.where((y > reserve_price) & (y < average_price), y, 1000)))\n",
    "        profit = (1000 - holding).sum()\n",
    "        return -profit\n",
    "\n",
    "initial_guess = [901, 1000]\n",
    "\n",
    "for _ in range(10):\n",
    "    result = minimize(objective, initial_guess, method = 'Powell', bounds = ((901, 1000), (901, 1000)))\n",
    "\n",
    "    print(result.x, result.fun)"
   ]
  }
 ],
 "metadata": {
  "kernelspec": {
   "display_name": "base",
   "language": "python",
   "name": "python3"
  },
  "language_info": {
   "codemirror_mode": {
    "name": "ipython",
    "version": 3
   },
   "file_extension": ".py",
   "mimetype": "text/x-python",
   "name": "python",
   "nbconvert_exporter": "python",
   "pygments_lexer": "ipython3",
   "version": "3.9.2"
  }
 },
 "nbformat": 4,
 "nbformat_minor": 2
}
